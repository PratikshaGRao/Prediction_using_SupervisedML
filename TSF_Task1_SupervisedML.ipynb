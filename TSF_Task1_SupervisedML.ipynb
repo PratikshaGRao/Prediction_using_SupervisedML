# The Sparks Foundation- GRIP- Data Science and Business Analytics- August 2021

# Task 1- Prediction Using Supervised ML

# Author: Pratiksha G Rao, Data Science and Business Analytics Intern (Aug 2021)

## Simple Linear Regression
In this regression task we will predict the percentage of marks that a student is expected to score based upon the number of hours they studied. This is a simple linear regression task as it involves just two variables.

Data sample: http://bit.ly/w-data

#import all the required libraries
import numpy as np
import pandas as pd
from sklearn.linear_model import LinearRegression
import matplotlib.pyplot as plt
%matplotlib inline
from sklearn.model_selection import train_test_split
import seaborn as sns

#read the data and display
student_data = pd.read_csv("http://bit.ly/w-data")
print(student_data.shape)
student_data

#an insight into the data
student_data.describe()

student_data.info()

#data visualisation
#a plot to understand correlation between the attributes 'Marks Percentage' and 'Hours studied'
student_data_plot = student_data.iloc[:, 0:20]
sns.pairplot(student_data_plot, diag_kind = 'kde')

#scatter plot
student_data.plot(kind='scatter', x='Hours', y='Scores')
plt.title('Hours vs Scores')

#splitting the dataset into dependent and independent variables 
X = student_data.iloc[:, :-1].values  
y = student_data.iloc[:, 1].values  

#splitting the dataset into training and testing sets
X_train,X_test,y_train,y_test = train_test_split(X, y, test_size=0.3, random_state=0)
print(X_train.shape)
print(X_test.shape)

#Fit Linear model
student_regression_model = LinearRegression().fit(X_train, y_train)

#predicting the results
print(X_test)
student_pred = student_regression_model.predict(X_test)

#visualise the training set prediction
plt.scatter(X_train, y_train, color='red')
plt.plot(X_train, student_regression_model.predict(X_train), color='blue')
plt.title('Hours vs Scores for training result')
plt.xlabel('Hours')
plt.ylabel('Scores')
plt.show()

#visualise the test set prediction
plt.scatter(X_test, y_test, color='red')
plt.plot(X_test, student_regression_model.predict(X_test), color='blue')
plt.title('Hours vs Scores for test result')
plt.xlabel('Hours')
plt.ylabel('Scores')
plt.show()

#comparing actual vs predicted
df = pd.DataFrame({'Actual': y_test, 'Predicted': student_pred})
df

#Testing/Predicting with our own data
hours = 9.25
own_pred = student_regression_model.predict([[hours]])
print("If a student studies for 9.25 hours per day then he/she can score", own_pred[0], "%")

#Checking the scores of training and testing model
print(student_regression_model.score(X_train, y_train))
print(student_regression_model.score(X_test, y_test))

#Checking the mean absolute error of the model
from sklearn import metrics 
print('Mean Absolute Error:', 
      metrics.mean_absolute_error(y_test, student_pred))

#Checking the accuracy of the model
from sklearn.metrics import r2_score
r2_score(y_test, student_pred)
print("Accuracy of the model is:", r2_score(y_test, student_pred)*100, '%')
